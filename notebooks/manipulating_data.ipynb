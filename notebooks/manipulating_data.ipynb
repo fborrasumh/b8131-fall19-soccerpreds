{
 "cells": [
  {
   "cell_type": "code",
   "execution_count": 2,
   "metadata": {},
   "outputs": [],
   "source": [
    "import os\n",
    "import numpy as np\n",
    "import pandas as pd\n",
    "import pickle"
   ]
  },
  {
   "cell_type": "markdown",
   "metadata": {},
   "source": [
    "## Getting momentum variables and current tournament points"
   ]
  },
  {
   "cell_type": "code",
   "execution_count": 2,
   "metadata": {},
   "outputs": [],
   "source": [
    "df = pd.read_csv(\"../data/cleaned_data.csv\")\n",
    "\n",
    "# ADDING ACCURACY AND CONVERSION VARIABLES\n",
    "# Accuracy is ratio of shots on target among shots\n",
    "df[\"HAcc\"] = df.apply(lambda x: x[\"HST\"] / (x[\"HS\"] + 1e-5), axis = 1)\n",
    "df[\"AAcc\"] = df.apply(lambda x: x[\"AST\"] / (x[\"AS\"] + 1e-5), axis = 1)\n",
    "\n",
    "# Conversion is ratio of goals among shots\n",
    "df[\"HConv\"] = df.apply(lambda x: x[\"FTHG\"] / (x[\"HS\"] + 1e-5), axis = 1)\n",
    "df[\"AConv\"] = df.apply(lambda x: x[\"FTAG\"] / (x[\"AS\"] + 1e-5), axis = 1)\n",
    "\n",
    "# Initializing points columns\n",
    "df[\"HCurrentPoints\"] = 0\n",
    "df[\"ACurrentPoints\"] = 0\n",
    "\n",
    "metrics = ['FT{}G', '{}S', '{}ST', '{}Acc', '{}Conv']\n",
    "refs = ['H', 'A']\n",
    "momentum_var = [mom.format(ref) + '_5Avg' for mom, ref in [(m, r) for m in metrics for r in refs]]\n",
    "for mom in momentum_var: df[mom] = 0\n"
   ]
  },
  {
   "cell_type": "code",
   "execution_count": 3,
   "metadata": {},
   "outputs": [],
   "source": [
    "for idx in range(len(df)):\n",
    "    \n",
    "    row = df.iloc[idx].copy()\n",
    "    season = row.Season\n",
    "    date = row.Date\n",
    "    home_team = row.HomeTeam\n",
    "    away_team = row.AwayTeam\n",
    "    # Last 5 games of Home team\n",
    "    df_season_home = df[((df.HomeTeam == home_team) | (df.AwayTeam == home_team)) & (df.Date < date) & (df.Season == season)].sort_values(by='Date')[-5:]\n",
    "    # Last 5 games of Away team\n",
    "    df_season_away = df[((df.HomeTeam == away_team) | (df.AwayTeam == away_team)) & (df.Date < date) & (df.Season == season)].sort_values(by='Date')[-5:]\n",
    "\n",
    "    momentum = {mom: [] for mom in momentum_var}\n",
    "\n",
    "    # Getting Home last values\n",
    "    if  len(df_season_home) == 0:\n",
    "        for metric in metrics: momentum[metric.format('H') + '_5Avg'].append(np.nan)\n",
    "        row.HCurrentPoints = 0\n",
    "        \n",
    "    else:\n",
    "        for i, (_, row_home) in enumerate(df_season_home.iterrows()):\n",
    "            if row_home.HomeTeam == home_team: ref = 'H'\n",
    "            else: ref = 'A'\n",
    "            for metric in metrics: momentum[metric.format('H') + '_5Avg'].append(row_home[metric.format(ref)])\n",
    "            \n",
    "            # Updating Home current points in the tournament\n",
    "            if i == len(df_season_home)-1:\n",
    "                old_points = row_home['{}CurrentPoints'.format(ref)]\n",
    "                result = row_home.FTR\n",
    "                if result == ref: new_points = old_points + 3\n",
    "                elif result == 'D': new_points = old_points + 1\n",
    "                else: new_points = old_points\n",
    "                row.HCurrentPoints = new_points\n",
    "            \n",
    "    # Getting Away last values\n",
    "    if  len(df_season_away) == 0:\n",
    "        for metric in metrics: momentum[metric.format('A') + '_5Avg'].append(np.nan)\n",
    "        row.ACurrentPoints = 0\n",
    "        \n",
    "    else:\n",
    "        for i, (_, row_away) in enumerate(df_season_away.iterrows()):\n",
    "            if row_away.HomeTeam == away_team: ref = 'H'\n",
    "            else: ref = 'A'\n",
    "            for metric in metrics: momentum[metric.format('A') + '_5Avg'].append(row_away[metric.format(ref)])    \n",
    "            \n",
    "            # Updating Away current points in the tournament\n",
    "            if i == len(df_season_away)-1:\n",
    "                old_points = row_away['{}CurrentPoints'.format(ref)]\n",
    "                result = row_away.FTR\n",
    "                if result == ref: new_points = old_points + 3\n",
    "                elif result == 'D': new_points = old_points + 1\n",
    "                else: new_points = old_points\n",
    "                row.ACurrentPoints = new_points\n",
    "    \n",
    "    # Adding momentum columns to row\n",
    "    for metric in metrics:\n",
    "        row[metric.format('H') + '_5Avg'] = np.array(momentum[metric.format('H') + '_5Avg']).mean()\n",
    "        row[metric.format('A') + '_5Avg'] = np.array(momentum[metric.format('A') + '_5Avg']).mean()\n",
    "        \n",
    "    df.loc[idx, :] = row\n"
   ]
  },
  {
   "cell_type": "markdown",
   "metadata": {},
   "source": [
    "## Adding optimal implicit ratings from lectures' analysis"
   ]
  },
  {
   "cell_type": "code",
   "execution_count": 4,
   "metadata": {},
   "outputs": [],
   "source": [
    "ratings = pd.read_csv('../data/optimal_ratings.csv')\n",
    "def get_season_more(s):\n",
    "    return s[-4:] + '-' + str(int(s[-4:]) + 1)\n",
    "ratings['season+'] = ratings.season.apply(get_season_more)\n",
    "\n",
    "merge_home = pd.merge(df, ratings, how = 'left', left_on = ['Season', 'HomeTeam'], right_on = ['season+', 'team'], left_index = True)\n",
    "merge_away = pd.merge(merge_home, ratings, how = 'left', left_on = ['Season', 'AwayTeam'], right_on = ['season+', 'team'], left_index = True)\n",
    "\n",
    "df_ratings = merge_away.drop(columns = ['season_x', 'season+_x', 'team_x', 'season_y', 'season+_y', 'team_y'])\n",
    "df_ratings = df_ratings.rename(columns = {'rating_x': 'HRating', 'rating_y': 'ARating'})"
   ]
  },
  {
   "cell_type": "markdown",
   "metadata": {},
   "source": [
    "## Getting data exploitable for models"
   ]
  },
  {
   "cell_type": "code",
   "execution_count": 5,
   "metadata": {},
   "outputs": [],
   "source": [
    "df_final = df_ratings.copy()\n",
    "\n",
    "# Removing 2012-2013 season because no data on optimal ratings\n",
    "df_final = df_final[df_final.Season > '2012-2013']\n",
    "\n",
    "# Getting number of previous games in the season for each team\n",
    "def get_nb_previous_games(row):\n",
    "    \n",
    "    season = row.Season\n",
    "    date = row.Date\n",
    "    home_team = row.HomeTeam\n",
    "    away_team = row.AwayTeam\n",
    "\n",
    "    row['prev_home'] = len(df_final[((df_final.HomeTeam == home_team) | (df_final.AwayTeam == home_team)) & (df_final.Date < date) & (df_final.Season == season)])\n",
    "    row['prev_away'] = len(df_final[((df_final.HomeTeam == away_team) | (df_final.AwayTeam == away_team)) & (df_final.Date < date) & (df_final.Season == season)])\n",
    "    \n",
    "    return row\n",
    "\n",
    "df_final = df_final.apply(get_nb_previous_games, axis = 1)\n",
    "\n",
    "# Getting rid of first 2 games of every team in each season\n",
    "df_filtered = df_final[(df_final.prev_home >= 2) & (df_final.prev_away >= 2)].drop(columns = ['prev_home', 'prev_away'])\n",
    "\n",
    "# Filling remaining NA ratings with 0 (this concerns all games of the 3 new teams of every season)\n",
    "df_filtered = df_filtered.fillna(0)\n",
    "\n",
    "# Normalizing team values columns\n",
    "df_norm = df_filtered.copy()\n",
    "df_norm.AValue = df_norm.groupby('Season').AValue.transform(lambda x: (x - x.min()) / (x.max()- x.min()))\n",
    "df_norm.HValue = df_norm.groupby('Season').HValue.transform(lambda x: (x - x.min()) / (x.max()- x.min()))\n",
    "\n",
    "# Getting differences of metrics\n",
    "metrics = ['{}Value', '{}CurrentPoints', '{}Rating',\n",
    "           'FT{}G_5Avg', '{}S_5Avg', '{}ST_5Avg', '{}Acc_5Avg', '{}Conv_5Avg']\n",
    "for metric in metrics:\n",
    "    df_norm[metric.format('') + '_Diff'] = df_norm[metric.format('H')] - df_norm[metric.format('A')]\n",
    "    \n",
    "    \n",
    "df_norm.to_csv('../data/final_data.csv', index = False)"
   ]
  },
  {
   "cell_type": "code",
   "execution_count": null,
   "metadata": {},
   "outputs": [],
   "source": []
  }
 ],
 "metadata": {
  "kernelspec": {
   "display_name": "Python 3",
   "language": "python",
   "name": "python3"
  },
  "language_info": {
   "codemirror_mode": {
    "name": "ipython",
    "version": 3
   },
   "file_extension": ".py",
   "mimetype": "text/x-python",
   "name": "python",
   "nbconvert_exporter": "python",
   "pygments_lexer": "ipython3",
   "version": "3.7.5"
  }
 },
 "nbformat": 4,
 "nbformat_minor": 4
}
